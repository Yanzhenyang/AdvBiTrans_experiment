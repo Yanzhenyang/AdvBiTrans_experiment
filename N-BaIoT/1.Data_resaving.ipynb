{
 "cells": [
  {
   "cell_type": "markdown",
   "metadata": {},
   "source": [
    "# import libraries"
   ]
  },
  {
   "cell_type": "code",
   "execution_count": 1,
   "metadata": {},
   "outputs": [],
   "source": [
    "import pandas as pd\n",
    "import numpy as np\n",
    "import seaborn as sns\n",
    "import warnings\n",
    "from sklearn.tree import DecisionTreeClassifier, export_graphviz\n",
    "import matplotlib.pyplot as plt"
   ]
  },
  {
   "cell_type": "markdown",
   "metadata": {},
   "source": [
    "# Read dataset"
   ]
  },
  {
   "cell_type": "markdown",
   "metadata": {},
   "source": [
    "### 读取良性标签数据"
   ]
  },
  {
   "cell_type": "code",
   "execution_count": 3,
   "metadata": {},
   "outputs": [],
   "source": [
    "df = pd.DataFrame()\n",
    "# 读取9个CSV文件并合并数据\n",
    "for i in range(1, 10):\n",
    "    file_name = f'E:/Network_security_code/intrusion detection/Datasets/N-BaIoT IoT dataset/{i}.benign.csv'  # 请替换为实际的文件名\n",
    "    df1 = pd.read_csv(file_name)\n",
    "    df = pd.concat([df, df1])\n",
    "\n",
    "# 添加名为\"label\"的列并赋值为\"beigen\"\n",
    "df['label'] = 'beigen'\n",
    "df['class'] = '0'\n",
    "# 将合并后的数据保存到一个新的CSV文件\n",
    "df.to_csv('./Data/benign.csv', index=False)"
   ]
  },
  {
   "cell_type": "code",
   "execution_count": 4,
   "metadata": {},
   "outputs": [
    {
     "data": {
      "text/plain": [
       "(555932, 117)"
      ]
     },
     "execution_count": 4,
     "metadata": {},
     "output_type": "execute_result"
    }
   ],
   "source": [
    "df.shape"
   ]
  },
  {
   "cell_type": "markdown",
   "metadata": {},
   "source": [
    "### 读取gafgyt-combo标签数据"
   ]
  },
  {
   "cell_type": "code",
   "execution_count": 40,
   "metadata": {},
   "outputs": [],
   "source": [
    "df = pd.DataFrame()\n",
    "# 读取9个CSV文件并合并数据\n",
    "for i in range(1, 10):\n",
    "    file_name = f''E:/Network_security_code/intrusion detection/Datasets/{i}.gafgyt.combo.csv'  # 请替换为实际的文件名\n",
    "    df1 = pd.read_csv(file_name)\n",
    "    df = pd.concat([df, df1])\n",
    "\n",
    "# 添加名为\"label\"的列并赋值为\"beigen\"\n",
    "df['label'] = 'gafgyt-combo'\n",
    "df['class'] = '1'\n",
    "#df = df.iloc[:56000]\n",
    "# 将合并后的数据保存到一个新的CSV文件\n",
    "df.to_csv('./Data/gafgyt-combo.csv', index=False)"
   ]
  },
  {
   "cell_type": "code",
   "execution_count": 42,
   "metadata": {},
   "outputs": [
    {
     "data": {
      "text/plain": [
       "(261789, 117)"
      ]
     },
     "execution_count": 42,
     "metadata": {},
     "output_type": "execute_result"
    }
   ],
   "source": [
    "df.shape"
   ]
  },
  {
   "cell_type": "markdown",
   "metadata": {},
   "source": [
    "### 读取gafgyt-junk标签数据"
   ]
  },
  {
   "cell_type": "code",
   "execution_count": 45,
   "metadata": {},
   "outputs": [],
   "source": [
    "df = pd.DataFrame()\n",
    "# 读取9个CSV文件并合并数据\n",
    "for i in range(1, 10):\n",
    "    file_name = f'../Datasets/N-BaIoT IoT dataset/{i}.gafgyt.junk.csv'  # 请替换为实际的文件名\n",
    "    df1 = pd.read_csv(file_name)\n",
    "    df = pd.concat([df, df1])\n",
    "\n",
    "# 添加名为\"label\"的列并赋值为\"beigen\"\n",
    "df['label'] = 'gafgyt-junk'\n",
    "df['class'] = '1'\n",
    "#df = df.iloc[:56000]\n",
    "# 将合并后的数据保存到一个新的CSV文件\n",
    "df.to_csv('./Data/gafgyt-junk.csv', index=False)"
   ]
  },
  {
   "cell_type": "code",
   "execution_count": 46,
   "metadata": {},
   "outputs": [
    {
     "data": {
      "text/plain": [
       "(261789, 117)"
      ]
     },
     "execution_count": 46,
     "metadata": {},
     "output_type": "execute_result"
    }
   ],
   "source": [
    "df.shape"
   ]
  },
  {
   "cell_type": "markdown",
   "metadata": {},
   "source": [
    "### 读取gafgyt-scan标签数据"
   ]
  },
  {
   "cell_type": "code",
   "execution_count": 47,
   "metadata": {},
   "outputs": [],
   "source": [
    "df = pd.DataFrame()\n",
    "# 读取9个CSV文件并合并数据\n",
    "for i in range(1, 10):\n",
    "    file_name = f'../Datasets/N-BaIoT IoT dataset/{i}.gafgyt.scan.csv'  # 请替换为实际的文件名\n",
    "    df1 = pd.read_csv(file_name)\n",
    "    df = pd.concat([df, df1])\n",
    "\n",
    "# 添加名为\"label\"的列并赋值为\"beigen\"\n",
    "df['label'] = 'gafgyt-scan'\n",
    "df['class'] = '1'\n",
    "#df = df.iloc[:56000]\n",
    "# 将合并后的数据保存到一个新的CSV文件\n",
    "df.to_csv('./Data/gafgyt-scan.csv', index=False)"
   ]
  },
  {
   "cell_type": "code",
   "execution_count": 48,
   "metadata": {},
   "outputs": [
    {
     "data": {
      "text/plain": [
       "(255111, 117)"
      ]
     },
     "execution_count": 48,
     "metadata": {},
     "output_type": "execute_result"
    }
   ],
   "source": [
    "df.shape"
   ]
  },
  {
   "cell_type": "markdown",
   "metadata": {},
   "source": [
    "### 读取gafgyt-tcp标签数据"
   ]
  },
  {
   "cell_type": "code",
   "execution_count": 49,
   "metadata": {},
   "outputs": [],
   "source": [
    "df = pd.DataFrame()\n",
    "# 读取9个CSV文件并合并数据\n",
    "for i in range(1, 10):\n",
    "    file_name = f'../Datasets/N-BaIoT IoT dataset/{i}.gafgyt.tcp.csv'  # 请替换为实际的文件名\n",
    "    df1 = pd.read_csv(file_name)\n",
    "    df = pd.concat([df, df1])\n",
    "\n",
    "# 添加名为\"label\"的列并赋值为\"beigen\"\n",
    "df['label'] = 'gafgyt-tcp'\n",
    "df['class'] = '1'\n",
    "#df = df.iloc[:56000]\n",
    "# 将合并后的数据保存到一个新的CSV文件\n",
    "df.to_csv('./Data/gafgyt-tcp.csv', index=False)"
   ]
  },
  {
   "cell_type": "code",
   "execution_count": 50,
   "metadata": {},
   "outputs": [
    {
     "data": {
      "text/plain": [
       "(859850, 117)"
      ]
     },
     "execution_count": 50,
     "metadata": {},
     "output_type": "execute_result"
    }
   ],
   "source": [
    "df.shape"
   ]
  },
  {
   "cell_type": "markdown",
   "metadata": {},
   "source": [
    "### 读取gafgyt-udp标签数据"
   ]
  },
  {
   "cell_type": "code",
   "execution_count": 51,
   "metadata": {},
   "outputs": [],
   "source": [
    "df = pd.DataFrame()\n",
    "# 读取9个CSV文件并合并数据\n",
    "for i in range(1, 10):\n",
    "    file_name = f'../Datasets/N-BaIoT IoT dataset/{i}.gafgyt.udp.csv'  # 请替换为实际的文件名\n",
    "    df1 = pd.read_csv(file_name)\n",
    "    df = pd.concat([df, df1])\n",
    "\n",
    "# 添加名为\"label\"的列并赋值为\"beigen\"\n",
    "df['label'] = 'gafgyt-udp'\n",
    "df['class'] = '1'\n",
    "#df = df.iloc[:56000]\n",
    "# 将合并后的数据保存到一个新的CSV文件\n",
    "df.to_csv('./Data/gafgyt-udp.csv', index=False)"
   ]
  },
  {
   "cell_type": "code",
   "execution_count": 52,
   "metadata": {},
   "outputs": [
    {
     "data": {
      "text/plain": [
       "(946366, 117)"
      ]
     },
     "execution_count": 52,
     "metadata": {},
     "output_type": "execute_result"
    }
   ],
   "source": [
    "df.shape"
   ]
  },
  {
   "cell_type": "markdown",
   "metadata": {},
   "source": [
    "### 读取mirai-ack标签数据"
   ]
  },
  {
   "cell_type": "code",
   "execution_count": 57,
   "metadata": {},
   "outputs": [],
   "source": [
    "df = pd.DataFrame()\n",
    "# 读取9个CSV文件并合并数据\n",
    "for i in range(1, 10):\n",
    "    if i in (3,4,7):\n",
    "        continue  # 跳过没有的情况\n",
    "    file_name = f'../Datasets/N-BaIoT IoT dataset/{i}.mirai.ack.csv'  # 请替换为实际的文件名\n",
    "    df1 = pd.read_csv(file_name)\n",
    "    df = pd.concat([df, df1])\n",
    "\n",
    "# 添加名为\"label\"的列并赋值为\"beigen\"\n",
    "df['label'] = 'mirai-ack'\n",
    "df['class'] = '1'\n",
    "#df = df.iloc[:56000]\n",
    "# 将合并后的数据保存到一个新的CSV文件\n",
    "df.to_csv('./Data/mirai-ack.csv', index=False)"
   ]
  },
  {
   "cell_type": "code",
   "execution_count": 58,
   "metadata": {},
   "outputs": [
    {
     "data": {
      "text/plain": [
       "(552698, 117)"
      ]
     },
     "execution_count": 58,
     "metadata": {},
     "output_type": "execute_result"
    }
   ],
   "source": [
    "df.shape"
   ]
  },
  {
   "cell_type": "markdown",
   "metadata": {},
   "source": [
    "### 读取mirai.scan标签数据"
   ]
  },
  {
   "cell_type": "code",
   "execution_count": 59,
   "metadata": {},
   "outputs": [],
   "source": [
    "df = pd.DataFrame()\n",
    "# 读取9个CSV文件并合并数据\n",
    "for i in range(1, 10):\n",
    "    if i in (3,7):\n",
    "        continue  # 跳过没有的情况\n",
    "    file_name = f'../Datasets/N-BaIoT IoT dataset/{i}.mirai.scan.csv'  # 请替换为实际的文件名\n",
    "    df1 = pd.read_csv(file_name)\n",
    "    df = pd.concat([df, df1])\n",
    "\n",
    "# 添加名为\"label\"的列并赋值为\"beigen\"\n",
    "df['label'] = 'mirai-scan'\n",
    "df['class'] = '1'\n",
    "#df = df.iloc[:56000]\n",
    "# 将合并后的数据保存到一个新的CSV文件\n",
    "df.to_csv('./Data/mirai-scan.csv', index=False)"
   ]
  },
  {
   "cell_type": "code",
   "execution_count": 60,
   "metadata": {},
   "outputs": [
    {
     "data": {
      "text/plain": [
       "(537979, 117)"
      ]
     },
     "execution_count": 60,
     "metadata": {},
     "output_type": "execute_result"
    }
   ],
   "source": [
    "df.shape"
   ]
  },
  {
   "cell_type": "markdown",
   "metadata": {},
   "source": [
    "### 读取mirai.syn标签数据"
   ]
  },
  {
   "cell_type": "code",
   "execution_count": 61,
   "metadata": {},
   "outputs": [],
   "source": [
    "df = pd.DataFrame()\n",
    "# 读取9个CSV文件并合并数据\n",
    "for i in range(1, 10):\n",
    "    if i in (3,7):\n",
    "        continue  # 跳过没有的情况\n",
    "    file_name = f'../Datasets/N-BaIoT IoT dataset/{i}.mirai.syn.csv'  # 请替换为实际的文件名\n",
    "    df1 = pd.read_csv(file_name)\n",
    "    df = pd.concat([df, df1])\n",
    "\n",
    "# 添加名为\"label\"的列并赋值为\"beigen\"\n",
    "df['label'] = 'mirai-syn'\n",
    "df['class'] = '1'\n",
    "#df = df.iloc[:56000]\n",
    "# 将合并后的数据保存到一个新的CSV文件\n",
    "df.to_csv('./Data/mirai-syn.csv', index=False)"
   ]
  },
  {
   "cell_type": "code",
   "execution_count": 62,
   "metadata": {},
   "outputs": [
    {
     "data": {
      "text/plain": [
       "(733299, 117)"
      ]
     },
     "execution_count": 62,
     "metadata": {},
     "output_type": "execute_result"
    }
   ],
   "source": [
    "df.shape"
   ]
  },
  {
   "cell_type": "markdown",
   "metadata": {},
   "source": [
    "### 读取mirai.udp标签数据"
   ]
  },
  {
   "cell_type": "code",
   "execution_count": 63,
   "metadata": {},
   "outputs": [],
   "source": [
    "df = pd.DataFrame()\n",
    "# 读取9个CSV文件并合并数据\n",
    "for i in range(1, 10):\n",
    "    if i in (3,7):\n",
    "        continue  # 跳过没有的情况\n",
    "    file_name = f'../Datasets/N-BaIoT IoT dataset/{i}.mirai.udp.csv'  # 请替换为实际的文件名\n",
    "    df1 = pd.read_csv(file_name)\n",
    "    df = pd.concat([df, df1])\n",
    "\n",
    "# 添加名为\"label\"的列并赋值为\"beigen\"\n",
    "df['label'] = 'mirai-udp'\n",
    "df['class'] = '1'\n",
    "#df = df.iloc[:56000]\n",
    "# 将合并后的数据保存到一个新的CSV文件\n",
    "df.to_csv('./Data/mirai-udp.csv', index=False)"
   ]
  },
  {
   "cell_type": "code",
   "execution_count": 64,
   "metadata": {},
   "outputs": [
    {
     "data": {
      "text/plain": [
       "(1229999, 117)"
      ]
     },
     "execution_count": 64,
     "metadata": {},
     "output_type": "execute_result"
    }
   ],
   "source": [
    "df.shape"
   ]
  },
  {
   "cell_type": "markdown",
   "metadata": {},
   "source": [
    "### 读取mirai.udpplain标签数据"
   ]
  },
  {
   "cell_type": "code",
   "execution_count": 65,
   "metadata": {},
   "outputs": [],
   "source": [
    "df = pd.DataFrame()\n",
    "# 读取9个CSV文件并合并数据\n",
    "for i in range(1, 10):\n",
    "    if i in (3,7):\n",
    "        continue  # 跳过没有的情况\n",
    "    file_name = f'../Datasets/N-BaIoT IoT dataset/{i}.mirai.udpplain.csv'  # 请替换为实际的文件名\n",
    "    df1 = pd.read_csv(file_name)\n",
    "    df = pd.concat([df, df1])\n",
    "\n",
    "# 添加名为\"label\"的列并赋值为\"beigen\"\n",
    "df['label'] = 'mirai-udpplain'\n",
    "df['class'] = '1'\n",
    "#df = df.iloc[:56000]\n",
    "# 将合并后的数据保存到一个新的CSV文件\n",
    "df.to_csv('./Data/mirai-udpplain.csv', index=False)"
   ]
  },
  {
   "cell_type": "code",
   "execution_count": 66,
   "metadata": {},
   "outputs": [
    {
     "data": {
      "text/plain": [
       "(523304, 117)"
      ]
     },
     "execution_count": 66,
     "metadata": {},
     "output_type": "execute_result"
    }
   ],
   "source": [
    "df.shape"
   ]
  }
 ],
 "metadata": {
  "kernelspec": {
   "display_name": "pycharm",
   "language": "python",
   "name": "python3"
  },
  "language_info": {
   "codemirror_mode": {
    "name": "ipython",
    "version": 3
   },
   "file_extension": ".py",
   "mimetype": "text/x-python",
   "name": "python",
   "nbconvert_exporter": "python",
   "pygments_lexer": "ipython3",
   "version": "3.9.7"
  }
 },
 "nbformat": 4,
 "nbformat_minor": 2
}
